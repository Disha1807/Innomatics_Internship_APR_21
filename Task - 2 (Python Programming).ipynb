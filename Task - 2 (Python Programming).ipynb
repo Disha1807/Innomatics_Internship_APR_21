{
 "cells": [
  {
   "cell_type": "markdown",
   "metadata": {},
   "source": [
    "#### 1. List Comprehensions "
   ]
  },
  {
   "cell_type": "code",
   "execution_count": 3,
   "metadata": {},
   "outputs": [
    {
     "name": "stdout",
     "output_type": "stream",
     "text": [
      "1\n",
      "1\n",
      "2\n",
      "3\n",
      "[[0, 0, 0], [0, 0, 1], [0, 0, 2], [0, 1, 0], [0, 1, 1], [1, 0, 0], [1, 0, 1], [1, 1, 0], [1, 1, 2]]\n"
     ]
    }
   ],
   "source": [
    "i = int(input())\n",
    "j = int(input())\n",
    "k = int(input())\n",
    "n = int(input())\n",
    "    \n",
    "list=[[a,b,c] for a in range(i+1) for b in range(j+1) for c in range(k+1) if((a+b+c)!=n)]\n",
    "print(list)"
   ]
  },
  {
   "cell_type": "markdown",
   "metadata": {},
   "source": [
    "#### 2. Find the Runner-Up Score!"
   ]
  },
  {
   "cell_type": "code",
   "execution_count": 3,
   "metadata": {},
   "outputs": [
    {
     "name": "stdout",
     "output_type": "stream",
     "text": [
      "5\n",
      "2 3 5 6 6 \n",
      "5\n"
     ]
    }
   ],
   "source": [
    "if __name__ == '__main__':\n",
    "    n = int(input())\n",
    "    arr = map(int, input().split())\n",
    "    \n",
    "    k=set(arr)\n",
    "    k.remove(max(k))\n",
    "    print(max(k))"
   ]
  },
  {
   "cell_type": "markdown",
   "metadata": {},
   "source": [
    "#### 3.Nested Lists\n",
    "\n",
    "Given the names and grades for each student in a class of N  students, store them in a nested list and print the name(s) of any student(s) having the second lowest grade.\n",
    "\n",
    "Note: If there are multiple students with the second lowest grade, order their names alphabetically and print each name on a new line."
   ]
  },
  {
   "cell_type": "code",
   "execution_count": 9,
   "metadata": {},
   "outputs": [
    {
     "name": "stdout",
     "output_type": "stream",
     "text": [
      "5\n",
      "harry\n",
      "37.21\n",
      "berry\n",
      "37.21\n",
      "tina\n",
      "37.2\n",
      "Akriti\n",
      "41\n",
      "Harsh\n",
      "39\n",
      "OUTPUT\n",
      "berry\n",
      "harry\n"
     ]
    }
   ],
   "source": [
    "students=[]\n",
    "for _ in range(int(input())):\n",
    "    name = input()\n",
    "    score = float(input())\n",
    "    students.append([name,score])\n",
    "    \n",
    "#converting list to dictionary\n",
    "students=dict(students)\n",
    "#converting dict to set to remove duplicates\n",
    "score = sorted(set(students.values()))\n",
    "sec_lowest =score[1]\n",
    "sec_low_name =[name for name,score in students.items() if score==sec_lowest]\n",
    "sec_low_name.sort()\n",
    "print(\"OUTPUT\")\n",
    "for name in sec_low_name:\n",
    "    print(name)"
   ]
  },
  {
   "cell_type": "markdown",
   "metadata": {},
   "source": [
    "#### 4.Finding the percentage\n",
    "\n",
    "The provided code stub will read in a dictionary containing key/value pairs of name:[marks] for a list of students. Print the average of the marks array for the student name provided, showing 2 places after the decimal. "
   ]
  },
  {
   "cell_type": "code",
   "execution_count": 12,
   "metadata": {},
   "outputs": [
    {
     "name": "stdout",
     "output_type": "stream",
     "text": [
      "3\n",
      "Krishna 67 68 69\n",
      "arjun 70 98 63\n",
      "Malika 52 56 60\n",
      "Malika\n",
      "OUTPUT\n",
      "56.00\n"
     ]
    }
   ],
   "source": [
    "if __name__ == '__main__':\n",
    "    n = int(input())\n",
    "    student_marks = {}\n",
    "    for _ in range(n):\n",
    "        line = input().split()\n",
    "        name, scores = line[0], line[1:]\n",
    "        scores = map(float, scores)\n",
    "        student_marks[name] = scores\n",
    "    query_name = input()\n",
    "    print(\"OUTPUT\")\n",
    "    marks = list(student_marks[query_name])\n",
    "    percent = sum(marks)/len(marks)\n",
    "    print(\"%.2f\"% percent)\n",
    "    "
   ]
  },
  {
   "cell_type": "markdown",
   "metadata": {},
   "source": [
    "#### 5.Lists\n",
    "\n",
    "Consider a list (list = []). You can perform the following commands:\n",
    "\n",
    "1. insert (i e): Insert integer e at i position .\n",
    "2. print: Print the list.\n",
    "3. remove e: Delete the first occurrence of integer e .\n",
    "4. append e: Insert integer e at the end of the list.\n",
    "5. sort: Sort the list.\n",
    "6. pop: Pop the last element from the list.\n",
    "7. reverse: Reverse the list. "
   ]
  },
  {
   "cell_type": "code",
   "execution_count": 1,
   "metadata": {},
   "outputs": [
    {
     "name": "stdout",
     "output_type": "stream",
     "text": [
      "12\n",
      "insert 0 5\n",
      "insert 1 10\n",
      "insert 0 6\n",
      "print\n",
      "[6, 5, 10]\n",
      "remove 6\n",
      "append 9\n",
      "append 1\n",
      "sort\n",
      "print\n",
      "[1, 5, 9, 10]\n",
      "pop\n",
      "reverse\n",
      "print\n",
      "[9, 5, 1]\n"
     ]
    }
   ],
   "source": [
    "if __name__ == '__main__':\n",
    "    N = int(input())\n",
    "    \n",
    "    result=[]\n",
    "    for i in range(0,N):\n",
    "        x = input().split()\n",
    "        if(x[0]==\"insert\"):\n",
    "            result.insert(int(x[1]),int(x[2]))\n",
    "        elif x[0]==\"print\":\n",
    "            print(result)\n",
    "        elif x[0]==\"remove\":\n",
    "            result.remove(int(x[1]))\n",
    "        elif x[0]==\"append\":\n",
    "            result.append(int(x[1]))\n",
    "        elif x[0]==\"sort\":\n",
    "            result.sort()\n",
    "        elif x[0]==\"pop\":\n",
    "            result.pop()\n",
    "        else:\n",
    "            result.reverse()\n",
    "            \n",
    "        "
   ]
  },
  {
   "cell_type": "markdown",
   "metadata": {},
   "source": [
    "#### 6.Tuples\n",
    "\n",
    "Given an integer n and n space-separated integers as input, create a tuple, t, of those n integers. Then compute and print the result of hash(t)."
   ]
  },
  {
   "cell_type": "code",
   "execution_count": 3,
   "metadata": {},
   "outputs": [
    {
     "name": "stdout",
     "output_type": "stream",
     "text": [
      "2\n",
      "1 2\n",
      "-3550055125485641917\n"
     ]
    }
   ],
   "source": [
    "if __name__ == '__main__':\n",
    "    n = int(input())\n",
    "    integer_list = map(int,input().split())\n",
    "    tuple_list=tuple(integer_list)\n",
    "    print(hash(tuple_list))"
   ]
  },
  {
   "cell_type": "markdown",
   "metadata": {},
   "source": [
    "#### 7.Introduction to Sets "
   ]
  },
  {
   "cell_type": "code",
   "execution_count": 6,
   "metadata": {},
   "outputs": [
    {
     "name": "stdout",
     "output_type": "stream",
     "text": [
      "10\n",
      "161 182 161 154 176 170 167 171 170 174\n",
      "169.375\n"
     ]
    }
   ],
   "source": [
    "from __future__ import division\n",
    "\n",
    "def average(array):\n",
    "    # your code goes here\n",
    "    distinct_arr =set(array)\n",
    "    sofarr=sum(distinct_arr)\n",
    "    length=len(distinct_arr)\n",
    "    avg = sofarr/length\n",
    "    return avg\n",
    "\n",
    "if __name__ == '__main__':\n",
    "    n = int(input())\n",
    "    arr = map(int, input().split())\n",
    "    result = average(arr)\n",
    "    print (result)"
   ]
  },
  {
   "cell_type": "markdown",
   "metadata": {},
   "source": [
    "#### 8. No Idea!"
   ]
  },
  {
   "cell_type": "code",
   "execution_count": 2,
   "metadata": {},
   "outputs": [
    {
     "name": "stdout",
     "output_type": "stream",
     "text": [
      "3 2\n",
      "1 5 3\n",
      "3 1\n",
      "5 7\n",
      "OUTPUT\n",
      "1\n"
     ]
    }
   ],
   "source": [
    "n,m = input().split()\n",
    "arr = input().split()\n",
    "\n",
    "A= set(input().split())\n",
    "B = set(input().split())\n",
    "print(\"OUTPUT\")\n",
    "result=sum((i in A)-(i in B) for i in arr)\n",
    "print(result)"
   ]
  },
  {
   "cell_type": "markdown",
   "metadata": {},
   "source": [
    "#### 9. Symmetric Difference\n",
    "\n"
   ]
  },
  {
   "cell_type": "code",
   "execution_count": 5,
   "metadata": {},
   "outputs": [
    {
     "name": "stdout",
     "output_type": "stream",
     "text": [
      "4\n",
      "2 4 5 9\n",
      "4\n",
      "2 4 11 12\n",
      "OUTPUT\n",
      "5\n",
      "9\n",
      "11\n",
      "12\n"
     ]
    }
   ],
   "source": [
    "m=input().split()\n",
    "A = set(input().split())\n",
    "n=input().split()\n",
    "B =set(input().split())\n",
    "res1=set(A.difference(B))\n",
    "res2=set(B.difference(A))\n",
    "result=res1.union(res2)\n",
    "print(\"OUTPUT\")\n",
    "print ('\\n'.join(sorted(result, key=int)))"
   ]
  },
  {
   "cell_type": "markdown",
   "metadata": {},
   "source": [
    "#### 10. Set .add() "
   ]
  },
  {
   "cell_type": "code",
   "execution_count": 6,
   "metadata": {},
   "outputs": [
    {
     "name": "stdout",
     "output_type": "stream",
     "text": [
      "7\n",
      "UK\n",
      "china\n",
      "USA\n",
      "France\n",
      "New zeland\n",
      "USA\n",
      "France\n",
      "5\n"
     ]
    }
   ],
   "source": [
    "n=input()\n",
    "element=set()\n",
    "for i in range(int(n)):\n",
    "    element.add(input())\n",
    "\n",
    "print(len(element))"
   ]
  },
  {
   "cell_type": "markdown",
   "metadata": {},
   "source": [
    "#### 11.Set .discard(), .remove() & .pop()\n",
    "\n",
    " "
   ]
  },
  {
   "cell_type": "code",
   "execution_count": 7,
   "metadata": {},
   "outputs": [
    {
     "name": "stdout",
     "output_type": "stream",
     "text": [
      "9\n",
      "1 2 3 4 5 6 7 8 9\n",
      "10\n",
      "pop\n",
      "remove 9\n",
      "discard 9\n",
      "discard 8\n",
      "remove 7\n",
      "pop\n",
      "discard 6\n",
      "remove 5\n",
      "pop\n",
      "discard 5\n",
      "4\n"
     ]
    }
   ],
   "source": [
    "n = input()\n",
    "s = set(map(int, input().split()))\n",
    "\n",
    "m=input()\n",
    "\n",
    "for i in range(int(m)):\n",
    "    k=input().split()\n",
    "    if k[0]=='discard':\n",
    "     s.discard(int(k[1]))\n",
    "    elif k[0]=='remove':\n",
    "     s.remove(int(k[1]))\n",
    "    else:\n",
    "     s.pop()\n",
    "     \n",
    "final = sum(list(s))\n",
    "print(final)"
   ]
  },
  {
   "cell_type": "markdown",
   "metadata": {},
   "source": [
    "#### 12.Set .union() Operation\n",
    "\n",
    " "
   ]
  },
  {
   "cell_type": "code",
   "execution_count": 4,
   "metadata": {},
   "outputs": [
    {
     "name": "stdout",
     "output_type": "stream",
     "text": [
      "9\n",
      "1 2 3 4 5 6 7 8 9\n",
      "9\n",
      "10 1 2 3 11 55 21 6 8\n",
      "OUTPUT\n",
      " 13\n"
     ]
    }
   ],
   "source": [
    "n =input()\n",
    "A=set(input().split())\n",
    "m= input()\n",
    "B=set(input().split())\n",
    "\n",
    "result=len(A.union(B))\n",
    "print(\"OUTPUT\\n\",result)"
   ]
  },
  {
   "cell_type": "markdown",
   "metadata": {},
   "source": [
    "#### 13.Set .intersection() Operation\n",
    "\n",
    " "
   ]
  },
  {
   "cell_type": "code",
   "execution_count": 5,
   "metadata": {},
   "outputs": [
    {
     "name": "stdout",
     "output_type": "stream",
     "text": [
      "9\n",
      "1 2 3 4 5 6 7 8 9\n",
      "9\n",
      "10 1 2 3 11 55 21 6 8\n",
      "OUTPUT\n",
      " 5\n"
     ]
    }
   ],
   "source": [
    "n =input()\n",
    "A=set(input().split())\n",
    "m= input()\n",
    "B=set(input().split())\n",
    "\n",
    "result=len(A.intersection(B))\n",
    "print(\"OUTPUT\\n\",result)"
   ]
  },
  {
   "cell_type": "markdown",
   "metadata": {},
   "source": [
    "#### 14. Set .difference() Operation\n",
    "\n",
    " "
   ]
  },
  {
   "cell_type": "code",
   "execution_count": 6,
   "metadata": {},
   "outputs": [
    {
     "name": "stdout",
     "output_type": "stream",
     "text": [
      "9\n",
      "1 2 3 4 5 6 7 8 9\n",
      "9\n",
      "10 1 2 3 11 55 6 8\n",
      "OUTPUT\n",
      " 4\n"
     ]
    }
   ],
   "source": [
    "n =input()\n",
    "A=set(input().split())\n",
    "m= input()\n",
    "B=set(input().split())\n",
    "\n",
    "result=len(A.difference(B))\n",
    "print(\"OUTPUT\\n\",result)"
   ]
  },
  {
   "cell_type": "markdown",
   "metadata": {},
   "source": [
    "#### 15. Set .symmetric_difference() Operation"
   ]
  },
  {
   "cell_type": "code",
   "execution_count": 7,
   "metadata": {},
   "outputs": [
    {
     "name": "stdout",
     "output_type": "stream",
     "text": [
      "9\n",
      "1 2 3 4 5 6 7 8 9\n",
      "9\n",
      "10 1 2 3 11 55 21 6 8\n",
      "OUTPUT\n",
      " 8\n"
     ]
    }
   ],
   "source": [
    "n =input()\n",
    "A=set(input().split())\n",
    "m= input()\n",
    "B=set(input().split())\n",
    "\n",
    "result=len(A.symmetric_difference(B))\n",
    "print(\"OUTPUT\\n\",result)"
   ]
  },
  {
   "cell_type": "markdown",
   "metadata": {},
   "source": [
    "#### 16.Set Mutations\n",
    "\n",
    " "
   ]
  },
  {
   "cell_type": "code",
   "execution_count": 9,
   "metadata": {},
   "outputs": [
    {
     "name": "stdout",
     "output_type": "stream",
     "text": [
      "16\n",
      "1 2 3 4 5 6 7 8 9 10 11 12 13 14 24 52\n",
      "4\n",
      "intersection_update 10 \n",
      "2 3 5 6 8 9 1 4 7 11\n",
      "update 2\n",
      "55 66\n",
      "symmetric_difference_update 5\n",
      "22 7 35 62 58\n",
      "difference_update 7\n",
      "11 22 35 55 58 62 66\n",
      "38\n"
     ]
    }
   ],
   "source": [
    "n = input()\n",
    "A = set(map(int,input().split()))\n",
    "\n",
    "m=input()\n",
    "\n",
    "for i in range(int(m)):\n",
    "    k=input().split()\n",
    "    B = set(map(int,input().split()))\n",
    "    if k[0]=='intersection_update':\n",
    "     A.intersection_update(B)\n",
    "    elif k[0]=='symmetric_difference_update':\n",
    "     A.symmetric_difference_update(B)\n",
    "    elif k[0]=='difference_update':\n",
    "     A.difference_update(B)\n",
    "    elif k[0]=='update':\n",
    "        A.update(B)\n",
    "        \n",
    "     \n",
    "final = sum(A)\n",
    "print(final)"
   ]
  },
  {
   "cell_type": "markdown",
   "metadata": {},
   "source": [
    "#### 17.The Captain's Room\n",
    "\n"
   ]
  },
  {
   "cell_type": "code",
   "execution_count": 10,
   "metadata": {},
   "outputs": [
    {
     "name": "stdout",
     "output_type": "stream",
     "text": [
      "5\n",
      "1 2 3 6 5 4 4 2 5 3 6 1 6 5 4 3 2 1 2 5 1 4 3 6 8 4 3 1 5 6 2\n",
      "8\n"
     ]
    }
   ],
   "source": [
    "k=input()\n",
    "\n",
    "room_no =list(input().split())\n",
    "unique=set()\n",
    "room=set()\n",
    "for i in room_no:\n",
    "    if i in unique:\n",
    "        room.add(i)\n",
    "    else:\n",
    "        unique.add(i)\n",
    "captain_room=unique.difference(room)\n",
    "print(captain_room.pop())"
   ]
  },
  {
   "cell_type": "markdown",
   "metadata": {},
   "source": [
    "#### 18. Check Subset "
   ]
  },
  {
   "cell_type": "code",
   "execution_count": 12,
   "metadata": {},
   "outputs": [
    {
     "name": "stdout",
     "output_type": "stream",
     "text": [
      "3\n",
      "5\n",
      "1 2 3 5 6\n",
      "9\n",
      "9 8 5 6 3 2 1 4 7\n",
      "True\n",
      "1\n",
      "2\n",
      "5\n",
      "3 6 5 4 1\n",
      "False\n",
      "7\n",
      "1 2 3 5 6 8 9\n",
      "3\n",
      "9 8 2\n",
      "False\n"
     ]
    }
   ],
   "source": [
    "k=input()\n",
    "for i in range(int(k)):\n",
    "    n=input()\n",
    "    A=set(input().split())\n",
    "    \n",
    "    m=input()\n",
    "    B=set(input().split())\n",
    "    \n",
    "    if(len(A.difference(B))==0):\n",
    "        print(\"True\")\n",
    "    else:\n",
    "        print(\"False\")"
   ]
  },
  {
   "cell_type": "markdown",
   "metadata": {},
   "source": [
    "#### 19.Check Strict Superset "
   ]
  },
  {
   "cell_type": "code",
   "execution_count": 1,
   "metadata": {},
   "outputs": [
    {
     "name": "stdout",
     "output_type": "stream",
     "text": [
      "1 2 3 4 5 6 7 8 9 10\n",
      "2\n",
      "1 2 3 4 5\n",
      "100 1 2\n",
      "False\n",
      "True\n"
     ]
    }
   ],
   "source": [
    "A=set(input().split())\n",
    "n=input()\n",
    "count=0\n",
    "for i in range(int(n)):\n",
    "    B=set(input().split())\n",
    "    \n",
    "    if(len(B.intersection(A))<len(B)):\n",
    "        print(\"False\")\n",
    "         exit\n",
    "print(\"True\")"
   ]
  },
  {
   "cell_type": "code",
   "execution_count": null,
   "metadata": {},
   "outputs": [],
   "source": []
  }
 ],
 "metadata": {
  "kernelspec": {
   "display_name": "Python 3",
   "language": "python",
   "name": "python3"
  },
  "language_info": {
   "codemirror_mode": {
    "name": "ipython",
    "version": 3
   },
   "file_extension": ".py",
   "mimetype": "text/x-python",
   "name": "python",
   "nbconvert_exporter": "python",
   "pygments_lexer": "ipython3",
   "version": "3.8.5"
  }
 },
 "nbformat": 4,
 "nbformat_minor": 4
}
